{
  "cells": [
    {
      "cell_type": "code",
      "source": [
        "from google.colab import drive\n",
        "drive.mount('/content/gdrive')"
      ],
      "metadata": {
        "colab": {
          "base_uri": "https://localhost:8080/"
        },
        "id": "TepN6sxDc_M-",
        "outputId": "544983c2-865f-448a-f95a-2c93f0ae96d4"
      },
      "id": "TepN6sxDc_M-",
      "execution_count": null,
      "outputs": [
        {
          "output_type": "stream",
          "name": "stdout",
          "text": [
            "Mounted at /content/gdrive\n"
          ]
        }
      ]
    },
    {
      "cell_type": "code",
      "source": [
        "readmission_dir=pd.read_csv('gdrive/MyDrive/Colab_notebook/NOT_CLEANED_DATA.csv')"
      ],
      "metadata": {
        "id": "NwFoW7A4dzcv"
      },
      "id": "NwFoW7A4dzcv",
      "execution_count": null,
      "outputs": []
    },
    {
      "cell_type": "code",
      "execution_count": null,
      "id": "a7f4f021",
      "metadata": {
        "id": "a7f4f021"
      },
      "outputs": [],
      "source": [
        "readmission_dir['TEXT_FILE'][0]"
      ]
    },
    {
      "cell_type": "code",
      "source": [
        "!pip install pyspark==3.1.3 spark-nlp==3.4.2"
      ],
      "metadata": {
        "id": "AedXzyzibxlq"
      },
      "id": "AedXzyzibxlq",
      "execution_count": null,
      "outputs": []
    },
    {
      "cell_type": "code",
      "source": [
        "import sparknlp\n",
        "\n",
        "spark = sparknlp.start(gpu=True)\n",
        "\n",
        "print(\"Spark NLP version: \", sparknlp.version())\n",
        "print(\"Apache Spark version: \", spark.version)\n",
        "\n",
        "spark"
      ],
      "metadata": {
        "id": "PWSf0LiMOkO1"
      },
      "id": "PWSf0LiMOkO1",
      "execution_count": null,
      "outputs": []
    },
    {
      "cell_type": "code",
      "execution_count": null,
      "id": "213e16db",
      "metadata": {
        "id": "213e16db"
      },
      "outputs": [],
      "source": [
        "#Defining functions\n",
        "import sys\n",
        "\n",
        "from pyspark.sql import SparkSession\n",
        "from pyspark.ml import Pipeline\n",
        "\n",
        "from sparknlp.annotator import *\n",
        "from sparknlp.common import *\n",
        "from sparknlp.base import *"
      ]
    },
    {
      "cell_type": "code",
      "execution_count": null,
      "id": "da4e6ed0",
      "metadata": {
        "id": "da4e6ed0"
      },
      "outputs": [],
      "source": [
        "from pyspark.ml.feature import SQLTransformer\n",
        "from pyspark.ml.feature import StringIndexer"
      ]
    },
    {
      "cell_type": "code",
      "execution_count": null,
      "id": "6dcee4dd",
      "metadata": {
        "id": "6dcee4dd"
      },
      "outputs": [],
      "source": [
        "import pandas as pd\n",
        "import numpy as np"
      ]
    },
    {
      "cell_type": "code",
      "execution_count": null,
      "id": "7a2ec180",
      "metadata": {
        "id": "7a2ec180"
      },
      "outputs": [],
      "source": [
        "import string\n",
        "punc_numb=string.punctuation+'0123456789'\n",
        "punc_numb=punc_numb.replace('!','')\n",
        "punc_numb=punc_numb.replace('.','')\n",
        "punc_numb=punc_numb.replace('?','')"
      ]
    },
    {
      "cell_type": "code",
      "execution_count": null,
      "id": "d69fbef7",
      "metadata": {
        "id": "d69fbef7"
      },
      "outputs": [],
      "source": [
        "punc_numb"
      ]
    },
    {
      "cell_type": "code",
      "execution_count": null,
      "id": "69e62447",
      "metadata": {
        "id": "69e62447"
      },
      "outputs": [],
      "source": [
        "# Replacing punctuations which are bot useful to spacings\n",
        "def clean_text(text):\n",
        "    text=text.replace(\"\\n\",\"\")\n",
        "    text=text.replace(\"\\r\",\"\")\n",
        "\n",
        "    t= text.maketrans(dict.fromkeys(punc_numb,\"\"))\n",
        "    text=text.translate(t)\n",
        "    \n",
        "    return(text)"
      ]
    },
    {
      "cell_type": "code",
      "execution_count": null,
      "id": "febacbc6",
      "metadata": {
        "id": "febacbc6"
      },
      "outputs": [],
      "source": [
        "from tqdm import tqdm\n",
        "for i in tqdm(range(len(readmission_dir))):\n",
        "    readmission_dir['TEXT_FILE'][i]=clean_text(readmission_dir['TEXT_FILE'][i])"
      ]
    },
    {
      "cell_type": "code",
      "execution_count": null,
      "id": "590f9bd9",
      "metadata": {
        "id": "590f9bd9"
      },
      "outputs": [],
      "source": [
        "from sklearn.model_selection import train_test_split\n",
        "df_train, df_test=train_test_split(readmission_dir,test_size=0.3, random_state=49)\n",
        "\n",
        "# sub-sampling the non-readmitted on the training set\n",
        "df_train_readm=df_train[df_train.READMISSION_STATUS=='Readmitted']\n",
        "df_train_non_readm=df_train[df_train.READMISSION_STATUS=='Non-readmitted']\n",
        "df_train_sub = pd.concat([df_train_readm, df_train_non_readm.sample(n = len(df_train_readm), random_state = 50)],axis = 1.5)"
      ]
    },
    {
      "cell_type": "code",
      "execution_count": null,
      "id": "a3caa6fe",
      "metadata": {
        "id": "a3caa6fe"
      },
      "outputs": [],
      "source": [
        "# Convert the pandas df to a spark df\n",
        "spark.conf.set(\"arrow.enabling\", \"true\")\n",
        "train = spark.createDataFrame(df_train_sub)\n",
        "test= spark.createDataFrame(df_test)"
      ]
    },
    {
      "cell_type": "markdown",
      "id": "01ae9bb1",
      "metadata": {
        "id": "01ae9bb1"
      },
      "source": [
        "### Build up Pipelines"
      ]
    },
    {
      "cell_type": "code",
      "execution_count": null,
      "id": "fe292af5",
      "metadata": {
        "id": "fe292af5"
      },
      "outputs": [],
      "source": [
        "%%time\n",
        "# Produce pipeline for data cleaning and sentence(discharge summary) embedding\n",
        "document_assembler = DocumentAssembler() \\\n",
        "      .setInputCol(\"TEXT_FILE\") \\\n",
        "      .setOutputCol(\"document\")\n",
        "    \n",
        "sentence = SentenceDetector() \\\n",
        "    .setInputCols(\"document\") \\\n",
        "    .setOutputCol(\"sentence\")\n",
        "\n",
        "Bert_sentence_embedding = BertSentenceEmbeddings.pretrained() \\\n",
        "  .setInputCols([\"document\",\"sentence\"]) \\\n",
        "  .setOutputCol(\"sentence_bert_embeddings\")\n",
        "\n",
        "embeddings_finisher = EmbeddingsFinisher() \\\n",
        "      .setInputCols([\"sentence_bert_embeddings\"]) \\\n",
        "      .setOutputCols([\"finished_sentence_embeddings\"]) \\\n",
        "      .setOutputAsVector(True)\\\n",
        "      .setCleanAnnotations(False)\n",
        "\n",
        "explodeVectors = SQLTransformer(statement=\n",
        "      \"SELECT EXPLODE(finished_sentence_embeddings) AS features, * FROM __THIS__\")\n",
        "\n",
        "label_stringIdx_label = StringIndexer(inputCol = \"READMISSION_STATUS\", outputCol = \"label\")\n",
        "\n",
        "nlp_pipeline_Bert = Pipeline(\n",
        "stages=[document_assembler, \n",
        "        sentence,\n",
        "        Bert_sentence_embedding,\n",
        "        embeddings_finisher,\n",
        "        explodeVectors,\n",
        "        label_stringIdx_label])"
      ]
    },
    {
      "cell_type": "code",
      "execution_count": null,
      "id": "016f0dc6",
      "metadata": {
        "id": "016f0dc6"
      },
      "outputs": [],
      "source": [
        "nlp_Bert_model= nlp_pipeline_Bert.fit(train)"
      ]
    },
    {
      "cell_type": "code",
      "execution_count": null,
      "id": "69340895",
      "metadata": {
        "id": "69340895"
      },
      "outputs": [],
      "source": [
        "nlp_Bert_model.write().overwrite().save('gdrive/MyDrive/Colab_Notebooks/Models_Pipelines/bert')"
      ]
    },
    {
      "cell_type": "code",
      "execution_count": null,
      "id": "06bf06f1",
      "metadata": {
        "id": "06bf06f1"
      },
      "outputs": [],
      "source": [
        "from pyspark.ml.pipeline import PipelineModel\n",
        "nlp_Bert_model= PipelineModel.load(\"gdrive/MyDrive/Colab_Notebooks/Models_Pipelines/bert/\")"
      ]
    },
    {
      "cell_type": "code",
      "execution_count": null,
      "id": "0b30fd43",
      "metadata": {
        "id": "0b30fd43"
      },
      "outputs": [],
      "source": [
        "processed_bert=nlp_Bert_model.transform(train)"
      ]
    },
    {
      "cell_type": "code",
      "execution_count": null,
      "id": "ae9fe74a",
      "metadata": {
        "id": "ae9fe74a"
      },
      "outputs": [],
      "source": [
        "processed_bert.show()"
      ]
    },
    {
      "cell_type": "markdown",
      "source": [
        ""
      ],
      "metadata": {
        "id": "qEAHfmiPVdeL"
      },
      "id": "qEAHfmiPVdeL"
    },
    {
      "cell_type": "code",
      "execution_count": null,
      "id": "c1a276c3",
      "metadata": {
        "id": "c1a276c3"
      },
      "outputs": [],
      "source": [
        "processed_bert_test=nlp_Bert_model.transform(test)"
      ]
    },
    {
      "cell_type": "code",
      "source": [
        "from pyspark.sql.functions import collect_list\n",
        "from pyspark.sql import functions as F\n",
        "processed_bert_combined = processed_bert.groupby('HADM_ID').agg(collect_list('features').alias(\"features\"),F.min(processed_bert.label))"
      ],
      "metadata": {
        "id": "AtM49-xS0XWo"
      },
      "id": "AtM49-xS0XWo",
      "execution_count": null,
      "outputs": []
    },
    {
      "cell_type": "code",
      "source": [
        "processed_bert_test_combined = processed_bert_test.groupby('HADM_ID').agg(collect_list('features').alias(\"features\"),F.min(processed_bert_test.label))"
      ],
      "metadata": {
        "id": "UarsJXhp3io0"
      },
      "id": "UarsJXhp3io0",
      "execution_count": null,
      "outputs": []
    },
    {
      "cell_type": "code",
      "source": [
        "processed_bert_combined.show()"
      ],
      "metadata": {
        "id": "Jy00v3jt1Ows"
      },
      "id": "Jy00v3jt1Ows",
      "execution_count": null,
      "outputs": []
    },
    {
      "cell_type": "code",
      "source": [
        "processed_bert_combined.write.orc(\"gdrive/MyDrive/Colab_notebook/transformed/sentence_train\")"
      ],
      "metadata": {
        "id": "hkqmSelLSRwK"
      },
      "id": "hkqmSelLSRwK",
      "execution_count": null,
      "outputs": []
    },
    {
      "cell_type": "code",
      "source": [
        "processed_bert_test_combined.write.orc(\"gdrive/MyDrive/Colab_notebook/transformed/sentence_test\")"
      ],
      "metadata": {
        "id": "Ir2QWGpIZ80-"
      },
      "id": "Ir2QWGpIZ80-",
      "execution_count": null,
      "outputs": []
    },
    {
      "cell_type": "code",
      "source": [
        "# Load in the saved transformed data\n",
        "processed_bert_combined = spark.read.orc('gdrive/MyDrive/Colab_notebook/transformed_data/bert_sentence_train/')\n",
        "processed_bert_test_combined = spark.read.orc('gdrive/MyDrive/Colab_notebook/transformed_data/bert_sentence_test/')"
      ],
      "metadata": {
        "id": "NMVsdRSVy2xD"
      },
      "id": "NMVsdRSVy2xD",
      "execution_count": null,
      "outputs": []
    },
    {
      "cell_type": "code",
      "source": [
        "Seperatly analysing the datasets as they are too big\n",
        "bert_sen_tr1,bert_sen_tr2, bert_sen_tr3, bert_sen_tr4, bert_sen_tr5=processed_bert_combined.randomSplit([0.2, 0.2, 0.2, 0.2, 0.2])"
      ],
      "metadata": {
        "id": "mfRnKHUZZaKk"
      },
      "id": "mfRnKHUZZaKk",
      "execution_count": null,
      "outputs": []
    },
    {
      "cell_type": "code",
      "source": [
        "# Define function to compute average embedding vector\n",
        "def average_emb(df):\n",
        "  for i in range(len(df)):\n",
        "    new_embedding_list=[]\n",
        "    embedding_list=df['features'][i]\n",
        "    for k in range(len(embedding_list)):\n",
        "      sentence_embedding=embedding_list[k][3]\n",
        "      new_embedding_list.append(sentence_embedding)\n",
        "    df['features'][i]=[sum(sub_list) / len(sub_list) for sub_list in zip(*new_embedding_list)]\n",
        "  return(df)"
      ],
      "metadata": {
        "id": "QGYIV7GkmZP7"
      },
      "id": "QGYIV7GkmZP7",
      "execution_count": null,
      "outputs": []
    },
    {
      "cell_type": "code",
      "source": [
        "pd_tr1=bert_sen_tr1.toPandas()\n",
        "pd_tr1=average_emb(pd_tr1)"
      ],
      "metadata": {
        "id": "GWL-JpCxjLIM"
      },
      "id": "GWL-JpCxjLIM",
      "execution_count": null,
      "outputs": []
    },
    {
      "cell_type": "code",
      "source": [
        "pd_tr2=bert_sen_tr2.toPandas()\n",
        "pd_tr2=average_emb(pd_tr2)"
      ],
      "metadata": {
        "id": "vtUUp5fQktQs"
      },
      "id": "vtUUp5fQktQs",
      "execution_count": null,
      "outputs": []
    },
    {
      "cell_type": "code",
      "source": [
        "pd_tr3=bert_sen_tr3.toPandas()\n",
        "pd_tr3=average_emb(pd_tr3)"
      ],
      "metadata": {
        "id": "RmOqe8chs5_0"
      },
      "id": "RmOqe8chs5_0",
      "execution_count": null,
      "outputs": []
    },
    {
      "cell_type": "code",
      "source": [
        "pd_tr4=bert_sen_tr4.toPandas()\n",
        "pd_tr4=average_emb(pd_tr4)"
      ],
      "metadata": {
        "id": "cMKQYdtLtYuU"
      },
      "id": "cMKQYdtLtYuU",
      "execution_count": null,
      "outputs": []
    },
    {
      "cell_type": "code",
      "source": [
        "pd_tr5=bert_sen_tr5.toPandas()\n",
        "pd_tr5=average_emb(pd_tr5)"
      ],
      "metadata": {
        "id": "LpGVb2E6tduv"
      },
      "id": "LpGVb2E6tduv",
      "execution_count": null,
      "outputs": []
    },
    {
      "cell_type": "code",
      "source": [
        "pd_train=pd.concat([pd_tr1,pd_tr2,pd_tr3,pd_tr4,pd_tr5]).reset_index(drop=True)"
      ],
      "metadata": {
        "id": "Y2ztzob4t_y1"
      },
      "id": "Y2ztzob4t_y1",
      "execution_count": null,
      "outputs": []
    },
    {
      "cell_type": "code",
      "execution_count": null,
      "id": "5e2ddf8e",
      "metadata": {
        "id": "5e2ddf8e"
      },
      "outputs": [],
      "source": [
        "pd_train.to_csv(\"gdrive/MyDrive/Colab_notebook/transformed_data/sentence_train.csv\")"
      ]
    },
    {
      "cell_type": "code",
      "source": [
        "# Randomly sample 30% of the original test set. This is should be enough for the prediction evaluation\n",
        "processed_bert_test_combined=processed_bert_test_combined.sample(withReplacement=False, fraction=0.3, seed=None)"
      ],
      "metadata": {
        "id": "J7hEJkV-vT33"
      },
      "id": "J7hEJkV-vT33",
      "execution_count": null,
      "outputs": []
    },
    {
      "cell_type": "code",
      "source": [
        "bert_sen_te1,bert_sen_te2, bert_sen_te3, bert_sen_te4=processed_bert_test_combined.randomSplit([0.25, 0.25, 0.25, 0.25])"
      ],
      "metadata": {
        "id": "kiHMH89gwn9j"
      },
      "id": "kiHMH89gwn9j",
      "execution_count": null,
      "outputs": []
    },
    {
      "cell_type": "code",
      "source": [
        "pd_te1=bert_sen_te1.toPandas()\n",
        "pd_te1=average_emb(pd_te1)"
      ],
      "metadata": {
        "id": "Dr7VhND-wzT7"
      },
      "id": "Dr7VhND-wzT7",
      "execution_count": null,
      "outputs": []
    },
    {
      "cell_type": "code",
      "source": [
        "pd_te2=bert_sen_te2.toPandas()\n",
        "pd_te2=average_emb(pd_te2)"
      ],
      "metadata": {
        "id": "wV-umSMVxJkv"
      },
      "id": "wV-umSMVxJkv",
      "execution_count": null,
      "outputs": []
    },
    {
      "cell_type": "code",
      "source": [
        "pd_te3=bert_sen_te3.toPandas()\n",
        "pd_te3=average_emb(pd_te3)"
      ],
      "metadata": {
        "id": "EJsN9uzSxMvK"
      },
      "id": "EJsN9uzSxMvK",
      "execution_count": null,
      "outputs": []
    },
    {
      "cell_type": "code",
      "source": [
        "pd_te4=bert_sen_te4.toPandas()\n",
        "pd_te4=average_emb(pd_te4)"
      ],
      "metadata": {
        "id": "kMHaTOR2xwah"
      },
      "id": "kMHaTOR2xwah",
      "execution_count": null,
      "outputs": []
    },
    {
      "cell_type": "code",
      "source": [
        "pd_test=pd.concat([pd_te1,pd_te2,pd_te3,pd_te4])"
      ],
      "metadata": {
        "id": "HcmBa-14yZ1Y"
      },
      "id": "HcmBa-14yZ1Y",
      "execution_count": null,
      "outputs": []
    },
    {
      "cell_type": "code",
      "execution_count": null,
      "id": "2ea47511",
      "metadata": {
        "id": "2ea47511"
      },
      "outputs": [],
      "source": [
        "pd_test.to_csv(\"gdrive/MyDrive/Colab_notebook/transformed_data/sentence_test.csv\")"
      ]
    },
    {
      "cell_type": "code",
      "source": [
        "pd_train=pd.read_csv(\"gdrive/MyDrive/Colab_notebook/transformed_data/sentence_train.csv\")\n",
        "pd_test=pd.read_csv(\"gdrive/MyDrive/Colab_notebook/transformed_data/sentence_test.csv\")"
      ],
      "metadata": {
        "id": "XWQ_3f9Bv9M0"
      },
      "id": "XWQ_3f9Bv9M0",
      "execution_count": null,
      "outputs": []
    },
    {
      "cell_type": "code",
      "execution_count": null,
      "id": "ad8d375d",
      "metadata": {
        "id": "ad8d375d"
      },
      "outputs": [],
      "source": [
        "pd_train.label=pd_train['min(label)'].astype(\"int\")"
      ]
    },
    {
      "cell_type": "code",
      "execution_count": null,
      "id": "b86b1132",
      "metadata": {
        "id": "b86b1132"
      },
      "outputs": [],
      "source": [
        "pd_test.label=pd_test['min(label)'].astype(\"int\")"
      ]
    },
    {
      "cell_type": "code",
      "execution_count": null,
      "id": "7a3e52c2",
      "metadata": {
        "id": "7a3e52c2"
      },
      "outputs": [],
      "source": [
        "X_train=pd_train.features\n",
        "y_train=pd_train['min(label)']"
      ]
    },
    {
      "cell_type": "code",
      "execution_count": null,
      "id": "72d4cefd",
      "metadata": {
        "id": "72d4cefd"
      },
      "outputs": [],
      "source": [
        "X_test=pd_test.features\n",
        "y_test=pd_test['min(label)']"
      ]
    },
    {
      "cell_type": "code",
      "source": [
        "X_train_trans=[]\n",
        "for doc in X_train:\n",
        "    embedding=doc[1:-1]\n",
        "    embedding_list=embedding.split(\",\")\n",
        "    str_to_num_list=[]\n",
        "    for num_str in embedding_list:\n",
        "        str_to_num_list.append(float(num_str))\n",
        "    X_train_trans.append(str_to_num_list)"
      ],
      "metadata": {
        "id": "OU7XPOFWtVlT"
      },
      "id": "OU7XPOFWtVlT",
      "execution_count": null,
      "outputs": []
    },
    {
      "cell_type": "code",
      "source": [
        "X_test_trans=[]\n",
        "for doc in X_test:\n",
        "    embedding=doc[1:-1]\n",
        "    embedding_list=embedding.split(\",\")\n",
        "    str_to_num_list=[]\n",
        "    for num_str in embedding_list:\n",
        "        str_to_num_list.append(float(num_str))\n",
        "    X_test_trans.append(str_to_num_list)"
      ],
      "metadata": {
        "id": "6XX4T_K3x1s0"
      },
      "id": "6XX4T_K3x1s0",
      "execution_count": null,
      "outputs": []
    },
    {
      "cell_type": "markdown",
      "id": "ea9a0d6e",
      "metadata": {
        "id": "ea9a0d6e"
      },
      "source": [
        "## Modeling"
      ]
    },
    {
      "cell_type": "code",
      "execution_count": null,
      "id": "d3c91cf6",
      "metadata": {
        "id": "d3c91cf6"
      },
      "outputs": [],
      "source": [
        "model_bert_sentence=[]\n",
        "Roc_auc_cv=[]\n",
        "Roc_auc_test=[]"
      ]
    },
    {
      "cell_type": "markdown",
      "id": "cf15a6b1",
      "metadata": {
        "id": "cf15a6b1"
      },
      "source": [
        "### Logistic Regression"
      ]
    },
    {
      "cell_type": "code",
      "source": [
        "!pip install scikit-optimize"
      ],
      "metadata": {
        "id": "dbZInSVCyEga"
      },
      "id": "dbZInSVCyEga",
      "execution_count": null,
      "outputs": []
    },
    {
      "cell_type": "code",
      "execution_count": null,
      "id": "23dfbec5",
      "metadata": {
        "id": "23dfbec5"
      },
      "outputs": [],
      "source": [
        "from sklearn.linear_model import LogisticRegression\n",
        "from sklearn.feature_extraction.text import TfidfVectorizer\n",
        "from sklearn.pipeline import Pipeline\n",
        "from sklearn.model_selection import cross_val_predict\n",
        "from sklearn.metrics import roc_curve\n",
        "from sklearn.metrics import roc_auc_score\n",
        "from sklearn.naive_bayes import MultinomialNB\n",
        "from sklearn.neighbors import KNeighborsClassifier\n",
        "from sklearn.model_selection import GridSearchCV\n",
        "from sklearn.model_selection import RepeatedStratifiedKFold\n",
        "from skopt import BayesSearchCV\n",
        "from sklearn.svm import LinearSVC\n",
        "from sklearn.feature_extraction.text import CountVectorizer\n",
        "from sklearn.tree import DecisionTreeClassifier\n",
        "from sklearn.model_selection import cross_val_score"
      ]
    },
    {
      "cell_type": "code",
      "execution_count": null,
      "id": "87d99406",
      "metadata": {
        "id": "87d99406"
      },
      "outputs": [],
      "source": [
        "# bert vs Logistic regression\n",
        "solvers = ['newton-cg', 'lbfgs', 'liblinear']\n",
        "penalty = ['l2']\n",
        "c_values = [100, 10, 1.0, 0.1, 0.01]\n",
        "\n",
        "param= dict(solver=solvers,penalty=penalty,C=c_values)\n",
        "cv = RepeatedStratifiedKFold(n_splits=5, n_repeats=3, random_state=1)\n",
        "scoring='roc_auc'\n",
        "\n",
        "logistic_clf_bert = BayesSearchCV(estimator=LogisticRegression(), search_spaces=param, scoring=scoring, n_jobs=-1, cv=cv)"
      ]
    },
    {
      "cell_type": "code",
      "execution_count": null,
      "id": "4959c548",
      "metadata": {
        "id": "4959c548"
      },
      "outputs": [],
      "source": [
        "logistic_clf_bert.fit(X_train_trans,y_train)"
      ]
    },
    {
      "cell_type": "code",
      "execution_count": null,
      "id": "4fe29230",
      "metadata": {
        "id": "4fe29230"
      },
      "outputs": [],
      "source": [
        "import pickle\n",
        "with open('gdrive/MyDrive/Colab_notebook/Models_Pipelines/logistic_regression.pkl','wb') as f:\n",
        "    pickle.dump(logistic_clf_bert,f)"
      ]
    },
    {
      "cell_type": "code",
      "execution_count": null,
      "id": "fd59d941",
      "metadata": {
        "id": "fd59d941"
      },
      "outputs": [],
      "source": [
        "with open('gdrive/MyDrive/Colab_notebook/Models_Pipelines/logistic_regression.pkl', 'rb') as f:\n",
        "    logistic_clf_bert = pickle.load(f)"
      ]
    },
    {
      "cell_type": "code",
      "execution_count": null,
      "id": "5559134f",
      "metadata": {
        "id": "5559134f"
      },
      "outputs": [],
      "source": [
        "logistic_regressionbest=logistic_regression.best_score_"
      ]
    },
    {
      "cell_type": "code",
      "execution_count": null,
      "id": "6301dc8a",
      "metadata": {
        "id": "6301dc8a"
      },
      "outputs": [],
      "source": [
        "logistic_regression_best"
      ]
    },
    {
      "cell_type": "code",
      "execution_count": null,
      "id": "72c0b8c3",
      "metadata": {
        "id": "72c0b8c3"
      },
      "outputs": [],
      "source": [
        "y_prob_logistic_clf_bert = logistic_clf_bert.predict_proba(X_test_trans)\n",
        "roc_auc_y_prob_logistic_clf_bert=roc_auc_score(y_test, y_prob_logistic_clf_bert[:,1])"
      ]
    },
    {
      "cell_type": "code",
      "execution_count": null,
      "id": "d83973c2",
      "metadata": {
        "id": "d83973c2"
      },
      "outputs": [],
      "source": [
        "roc_auc_y_prob_logistic_clf_bert"
      ]
    },
    {
      "cell_type": "code",
      "execution_count": null,
      "id": "04e74ec8",
      "metadata": {
        "id": "04e74ec8"
      },
      "outputs": [],
      "source": [
        "model_bert.append(\"Logistic Regression\")\n",
        "Roc_auc_cv.append(logistic_clf_bert_best)\n",
        "Roc_auc_test.append(roc_auc_y_prob_logistic_clf_bert)"
      ]
    },
    {
      "cell_type": "markdown",
      "id": "90460909",
      "metadata": {
        "id": "90460909"
      },
      "source": [
        "### Decision Tree"
      ]
    },
    {
      "cell_type": "code",
      "execution_count": null,
      "id": "3c920edd",
      "metadata": {
        "id": "3c920edd"
      },
      "outputs": [],
      "source": [
        "from sklearn.tree import DecisionTreeClassifier\n",
        "\n",
        "max_depth=[2, 3, 5, 10, 20]\n",
        "min_samples_leaf=[5, 10, 20, 50, 100]\n",
        "criterion=[\"gini\", \"entropy\"]\n",
        "\n",
        "param= dict(max_depth=max_depth,min_samples_leaf=min_samples_leaf,criterion=criterion)\n",
        "cv = RepeatedStratifiedKFold(n_splits=5, n_repeats=3, random_state=1)\n",
        "scoring='roc_auc'\n",
        "\n",
        "dec_tree_clf_bert = BayesSearchCV(estimator=DecisionTreeClassifier(), search_spaces=param, scoring=scoring, n_jobs=-1, cv=cv)"
      ]
    },
    {
      "cell_type": "code",
      "execution_count": null,
      "id": "2a406e5a",
      "metadata": {
        "id": "2a406e5a"
      },
      "outputs": [],
      "source": [
        "dec_tree_clf_bert.fit(X_train_trans,y_train)"
      ]
    },
    {
      "cell_type": "code",
      "execution_count": null,
      "id": "c7e2d834",
      "metadata": {
        "id": "c7e2d834"
      },
      "outputs": [],
      "source": [
        "import pickle\n",
        "with open('/Models_Pipelines/dec_tree_clf_bert.pkl','wb') as f:\n",
        "    pickle.dump(dec_tree_clf_bert,f)"
      ]
    },
    {
      "cell_type": "code",
      "execution_count": null,
      "id": "540a86cf",
      "metadata": {
        "id": "540a86cf"
      },
      "outputs": [],
      "source": [
        "with open('/Models_Pipelines/dec_tree_clf_bert.pkl', 'rb') as f:\n",
        "    dec_tree_clf_bert = pickle.load(f)"
      ]
    },
    {
      "cell_type": "code",
      "execution_count": null,
      "id": "5bdc57cb",
      "metadata": {
        "id": "5bdc57cb"
      },
      "outputs": [],
      "source": [
        "dec_tree_clf_bert_best=dec_tree_clf_bert.best_score_"
      ]
    },
    {
      "cell_type": "code",
      "execution_count": null,
      "id": "c5500f6d",
      "metadata": {
        "id": "c5500f6d"
      },
      "outputs": [],
      "source": [
        "dec_tree_clf_bert_best"
      ]
    },
    {
      "cell_type": "code",
      "execution_count": null,
      "id": "74e18987",
      "metadata": {
        "id": "74e18987"
      },
      "outputs": [],
      "source": [
        "y_prob_dec_tree_clf_bert = dec_tree_clf_bert.predict_proba(X_test_trans)\n",
        "roc_auc_dec_tree_clf_bert=roc_auc_score(y_test, y_prob_dec_tree_clf_bert[:,1])"
      ]
    },
    {
      "cell_type": "code",
      "execution_count": null,
      "id": "f6a1597f",
      "metadata": {
        "id": "f6a1597f"
      },
      "outputs": [],
      "source": [
        "roc_auc_dec_tree_clf_bert"
      ]
    },
    {
      "cell_type": "code",
      "execution_count": null,
      "id": "aefb5b99",
      "metadata": {
        "id": "aefb5b99"
      },
      "outputs": [],
      "source": [
        "model_bert.append(\"Decision Tree\")\n",
        "Roc_auc_cv.append(dec_tree_clf_bert_best)\n",
        "Roc_auc_test.append(roc_auc_dec_tree_clf_bert)"
      ]
    },
    {
      "cell_type": "markdown",
      "id": "9bb05190",
      "metadata": {
        "id": "9bb05190"
      },
      "source": [
        "### Linear SVM"
      ]
    },
    {
      "cell_type": "code",
      "execution_count": null,
      "id": "dc2db44e",
      "metadata": {
        "id": "dc2db44e"
      },
      "outputs": [],
      "source": [
        "c_values=[100, 10, 1.0, 0.1, 0.01]\n",
        "\n",
        "param= dict(C=c_values)\n",
        "cv = RepeatedStratifiedKFold(n_splits=5, n_repeats=3, random_state=1)\n",
        "scoring='roc_auc'\n",
        "\n",
        "lsvc_clf_bert = BayesSearchCV(estimator=LinearSVC(), search_spaces=param, scoring=scoring, n_jobs=-1, cv=cv)"
      ]
    },
    {
      "cell_type": "code",
      "execution_count": null,
      "id": "5767c0d2",
      "metadata": {
        "id": "5767c0d2"
      },
      "outputs": [],
      "source": [
        "lsvc_clf_bert.fit(X_train_trans,y_train)"
      ]
    },
    {
      "cell_type": "code",
      "execution_count": null,
      "id": "2d9aeda8",
      "metadata": {
        "id": "2d9aeda8"
      },
      "outputs": [],
      "source": [
        "with open('gdrive/MyDrive/Colab_notebook/Models_Pipelines/lsvc_clf_bert_sent.pkl','wb') as f:\n",
        "    pickle.dump(lsvc_clf_bert,f)"
      ]
    },
    {
      "cell_type": "code",
      "execution_count": null,
      "id": "8a6ce8c9",
      "metadata": {
        "id": "8a6ce8c9"
      },
      "outputs": [],
      "source": [
        "with open('gdrive/MyDrive/Colab_notebook/Models_Pipelines/lsvc_clf_bert_sent.pkl', 'rb') as f:\n",
        "    lsvc_clf_bert = pickle.load(f)"
      ]
    },
    {
      "cell_type": "code",
      "execution_count": null,
      "id": "09518956",
      "metadata": {
        "id": "09518956"
      },
      "outputs": [],
      "source": [
        "lsvc_clf_bert_best=lsvc_clf_bert.best_score_"
      ]
    },
    {
      "cell_type": "code",
      "execution_count": null,
      "id": "095a7aae",
      "metadata": {
        "id": "095a7aae"
      },
      "outputs": [],
      "source": [
        "lsvc_clf_bert_best"
      ]
    },
    {
      "cell_type": "code",
      "execution_count": null,
      "id": "2a7eae5c",
      "metadata": {
        "id": "2a7eae5c"
      },
      "outputs": [],
      "source": [
        "y_dec_func_lsvc_clf_bert=lsvc_clf_bert.decision_function(X_test_trans)\n",
        "roc_auc_lsvc_clf_bert=roc_auc_score(y_test, y_dec_func_lsvc_clf_bert)"
      ]
    },
    {
      "cell_type": "code",
      "execution_count": null,
      "id": "9c4e3818",
      "metadata": {
        "id": "9c4e3818"
      },
      "outputs": [],
      "source": [
        "roc_auc_lsvc_clf_bert"
      ]
    },
    {
      "cell_type": "code",
      "execution_count": null,
      "id": "8b1c0b92",
      "metadata": {
        "id": "8b1c0b92"
      },
      "outputs": [],
      "source": [
        "model_bert.append(\"Linear SVM\")\n",
        "Roc_auc_cv.append(lsvc_clf_bert_best)\n",
        "Roc_auc_test.append(roc_auc_lsvc_clf_bert)"
      ]
    },
    {
      "cell_type": "markdown",
      "id": "c939bd85",
      "metadata": {
        "id": "c939bd85"
      },
      "source": [
        "### KNN"
      ]
    },
    {
      "cell_type": "code",
      "execution_count": null,
      "id": "1c8dbc00",
      "metadata": {
        "id": "1c8dbc00"
      },
      "outputs": [],
      "source": [
        "k_range = list(range(1, 31))\n",
        "param= dict(n_neighbors=k_range)\n",
        "cv = RepeatedStratifiedKFold(n_splits=5, n_repeats=3, random_state=1)\n",
        "scoring='roc_auc'\n",
        "\n",
        "knn_clf_bert = BayesSearchCV(estimator=KNeighborsClassifier(), search_spaces=param, scoring=scoring, n_jobs=-1, cv=cv)"
      ]
    },
    {
      "cell_type": "code",
      "execution_count": null,
      "id": "71f609ce",
      "metadata": {
        "id": "71f609ce"
      },
      "outputs": [],
      "source": [
        "knn_clf_bert.fit(X_train_trans,y_train)"
      ]
    },
    {
      "cell_type": "code",
      "execution_count": null,
      "id": "5fb03c41",
      "metadata": {
        "id": "5fb03c41"
      },
      "outputs": [],
      "source": [
        "with open('/Models_Pipelines/knn_clf_bert.pkl','wb') as f:\n",
        "    pickle.dump(knn_clf_bert,f)"
      ]
    },
    {
      "cell_type": "code",
      "execution_count": null,
      "id": "d5022eb6",
      "metadata": {
        "id": "d5022eb6"
      },
      "outputs": [],
      "source": [
        "with open('/Models_Pipelines/knn_clf_bert.pkl', 'rb') as f:\n",
        "    knn_clf_bert = pickle.load(f)"
      ]
    },
    {
      "cell_type": "code",
      "execution_count": null,
      "id": "9590e4ae",
      "metadata": {
        "id": "9590e4ae"
      },
      "outputs": [],
      "source": [
        "knn_clf_bert_best=knn_clf_bert.best_score_"
      ]
    },
    {
      "cell_type": "code",
      "execution_count": null,
      "id": "27126abe",
      "metadata": {
        "id": "27126abe"
      },
      "outputs": [],
      "source": [
        "knn_clf_bert_best"
      ]
    },
    {
      "cell_type": "code",
      "execution_count": null,
      "id": "6e7ea88e",
      "metadata": {
        "id": "6e7ea88e"
      },
      "outputs": [],
      "source": [
        "y_prob_knn_clf_bert = knn_clf_bert.predict_proba(X_test_trans)\n",
        "roc_auc_knn_clf_bert=roc_auc_score(y_test,y_prob_knn_clf_bert[:,1])"
      ]
    },
    {
      "cell_type": "code",
      "execution_count": null,
      "id": "8e6e2810",
      "metadata": {
        "id": "8e6e2810"
      },
      "outputs": [],
      "source": [
        "roc_auc_knn_clf_bert"
      ]
    },
    {
      "cell_type": "code",
      "execution_count": null,
      "id": "d9f9d862",
      "metadata": {
        "id": "d9f9d862"
      },
      "outputs": [],
      "source": [
        "model_bert.append(\"KNN\")\n",
        "Roc_auc_cv.append(knn_clf_bert_best)\n",
        "Roc_auc_test.append(roc_auc_knn_clf_bert)"
      ]
    },
    {
      "cell_type": "markdown",
      "id": "d36c0e47",
      "metadata": {
        "id": "d36c0e47"
      },
      "source": [
        "### Random Forest"
      ]
    },
    {
      "cell_type": "code",
      "execution_count": null,
      "id": "89e19784",
      "metadata": {
        "id": "89e19784"
      },
      "outputs": [],
      "source": [
        "from sklearn.ensemble import RandomForestClassifier\n",
        "max_depth=[5, 10, 15, 20]\n",
        "min_samples_leaf=[5, 10, 20, 50, 100]\n",
        "criterion=[\"gini\", \"entropy\"]\n",
        "n_estimators=[10,50,100,150]\n",
        "\n",
        "param= dict(max_depth=max_depth,min_samples_leaf=min_samples_leaf,criterion=criterion,n_estimators=n_estimators)\n",
        "cv = RepeatedStratifiedKFold(n_splits=5, n_repeats=3, random_state=1)\n",
        "scoring='roc_auc'\n",
        "\n",
        "rand_for_clf_bert = BayesSearchCV(estimator=RandomForestClassifier(), search_spaces=param, scoring=scoring, n_jobs=-1, cv=cv)"
      ]
    },
    {
      "cell_type": "code",
      "execution_count": null,
      "id": "d6b265c2",
      "metadata": {
        "id": "d6b265c2"
      },
      "outputs": [],
      "source": [
        "rand_for_clf_bert.fit(X_train_trans,y_train)"
      ]
    },
    {
      "cell_type": "code",
      "execution_count": null,
      "id": "708631ab",
      "metadata": {
        "id": "708631ab"
      },
      "outputs": [],
      "source": [
        "with open('gdrive/MyDrive/Colab_notebook/Models_Pipelines/rand_for_clf_bert_sent.pkl','wb') as f:\n",
        "    pickle.dump(rand_for_clf_bert,f)"
      ]
    },
    {
      "cell_type": "code",
      "execution_count": null,
      "id": "ffa669d9",
      "metadata": {
        "id": "ffa669d9"
      },
      "outputs": [],
      "source": [
        "with open('/Models_Pipelines/rand_for_clf_bert_sent.pkl', 'rb') as f:\n",
        "    rand_for_clf_bert = pickle.load(f)"
      ]
    },
    {
      "cell_type": "code",
      "execution_count": null,
      "id": "31396f4a",
      "metadata": {
        "id": "31396f4a"
      },
      "outputs": [],
      "source": [
        "rand_for_clf_bert_best=rand_for_clf_bert.best_score_"
      ]
    },
    {
      "cell_type": "code",
      "execution_count": null,
      "id": "81386938",
      "metadata": {
        "id": "81386938"
      },
      "outputs": [],
      "source": [
        "rand_for_clf_bert_best"
      ]
    },
    {
      "cell_type": "code",
      "execution_count": null,
      "id": "a78ebeee",
      "metadata": {
        "id": "a78ebeee"
      },
      "outputs": [],
      "source": [
        "y_prob_rand_for_clf_bert = rand_for_clf_bert.predict_proba(X_test_trans)\n",
        "roc_auc_rand_for_clf_bert=roc_auc_score(y_test,y_prob_rand_for_clf_bert[:,1])"
      ]
    },
    {
      "cell_type": "code",
      "execution_count": null,
      "id": "096ce04f",
      "metadata": {
        "id": "096ce04f"
      },
      "outputs": [],
      "source": [
        "roc_auc_rand_for_clf_bert"
      ]
    },
    {
      "cell_type": "code",
      "execution_count": null,
      "id": "6274e751",
      "metadata": {
        "id": "6274e751"
      },
      "outputs": [],
      "source": [
        "model_bert.append(\"Random Forest\")\n",
        "Roc_auc_cv.append(rand_for_clf_bert_best)\n",
        "Roc_auc_test.append(roc_auc_rand_for_clf_bert)"
      ]
    },
    {
      "cell_type": "code",
      "execution_count": null,
      "id": "22ac737b",
      "metadata": {
        "id": "22ac737b"
      },
      "outputs": [],
      "source": [
        "result_bert=pd.DataFrame({'model_bert': model_bert, 'Roc_auc_cross_val': Roc_auc_cv,'Roc_auc_test':Roc_auc_test})\n",
        "result_bert=result_bert.sort_values('Roc_auc_test')\n",
        "result_bert.reset_index(drop = True)"
      ]
    }
  ],
  "metadata": {
    "kernelspec": {
      "display_name": "Python 3 (ipykernel)",
      "language": "python",
      "name": "python3"
    },
    "language_info": {
      "codemirror_mode": {
        "name": "ipython",
        "version": 3
      },
      "file_extension": ".py",
      "mimetype": "text/x-python",
      "name": "python",
      "nbconvert_exporter": "python",
      "pygments_lexer": "ipython3",
      "version": "3.7.12"
    },
    "colab": {
      "name": "Copy of 30-day readmission Bert_sentence prediction.ipynb",
      "provenance": [],
      "collapsed_sections": [
        "01ae9bb1",
        "cf15a6b1",
        "5e3c6652",
        "90460909",
        "9bb05190",
        "c939bd85",
        "d36c0e47"
      ],
      "machine_shape": "hm"
    }
  },
  "nbformat": 4,
  "nbformat_minor": 5
}